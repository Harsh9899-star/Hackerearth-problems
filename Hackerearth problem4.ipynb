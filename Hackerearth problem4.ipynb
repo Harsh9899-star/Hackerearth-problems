{
 "cells": [
  {
   "cell_type": "markdown",
   "id": "a3049bd0",
   "metadata": {},
   "source": [
    "### Problem\n",
    "Your program is to use the brute-force approach in order to find the Answer to Life, the Universe, and Everything. More precisely... rewrite small numbers from input to output. Stop processing input after reading in the number 42. All numbers at input are integers of one or two digits."
   ]
  },
  {
   "cell_type": "code",
   "execution_count": 1,
   "id": "ec4fc7f6",
   "metadata": {},
   "outputs": [
    {
     "name": "stdout",
     "output_type": "stream",
     "text": [
      "21\n",
      "21\n",
      "23\n",
      "23\n",
      "42\n"
     ]
    }
   ],
   "source": [
    "while True:\n",
    "    a = int(input())\n",
    "    if(a==42):\n",
    "        break\n",
    "    else:\n",
    "        print(a)"
   ]
  },
  {
   "cell_type": "code",
   "execution_count": null,
   "id": "1ef80b98",
   "metadata": {},
   "outputs": [],
   "source": []
  }
 ],
 "metadata": {
  "kernelspec": {
   "display_name": "Python 3",
   "language": "python",
   "name": "python3"
  },
  "language_info": {
   "codemirror_mode": {
    "name": "ipython",
    "version": 3
   },
   "file_extension": ".py",
   "mimetype": "text/x-python",
   "name": "python",
   "nbconvert_exporter": "python",
   "pygments_lexer": "ipython3",
   "version": "3.8.8"
  }
 },
 "nbformat": 4,
 "nbformat_minor": 5
}
