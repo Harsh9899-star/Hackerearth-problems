{
 "cells": [
  {
   "cell_type": "markdown",
   "id": "a32d2dd8",
   "metadata": {},
   "source": [
    "## Problem\n",
    "Arpasland has surrounded by attackers. A truck enters the city. The driver claims the load is food and medicine from Iranians. Ali is one of the soldiers in Arpasland. He doubts about the truck, maybe it's from the siege. He knows that a tag is valid if the sum of every two consecutive digits of it is even and its letter is not a vowel. Determine if the tag of the truck is valid or not.\n",
    "\n",
    "We consider the letters \"A\",\"E\",\"I\",\"O\",\"U\",\"Y\" to be vowels for this problem.\n",
    "\n",
    "Input Format\n",
    "\n",
    "The first line contains a string of length 9. The format is \"DDXDDD-DD\", where D stands for a digit (non zero) and X is an english letter."
   ]
  },
  {
   "cell_type": "code",
   "execution_count": 14,
   "id": "72114691",
   "metadata": {},
   "outputs": [
    {
     "name": "stdout",
     "output_type": "stream",
     "text": [
      "12x323-31\n",
      "invalid\n"
     ]
    }
   ],
   "source": [
    "a=input()\n",
    "if(a[2]==\"A\" or a[2]==\"E\" or a[2]==\"I\" or a[2]==\"O\" or a[2]==\"U\" or a[2]==\"Y\"):\n",
    "    print(\"invalid\")\n",
    "elif(int(a[0])+int(a[1]))%2==0 and (int(a[3])+int(a[4]))%2==0 and (int(a[4])+int(a[5]))%2==0 and (int(a[7])+int(a[8]))%2==0:\n",
    "    print(\"valid\")\n",
    "else:\n",
    "    print(\"invalid\")        "
   ]
  },
  {
   "cell_type": "code",
   "execution_count": null,
   "id": "d9986019",
   "metadata": {},
   "outputs": [],
   "source": []
  }
 ],
 "metadata": {
  "kernelspec": {
   "display_name": "Python 3",
   "language": "python",
   "name": "python3"
  },
  "language_info": {
   "codemirror_mode": {
    "name": "ipython",
    "version": 3
   },
   "file_extension": ".py",
   "mimetype": "text/x-python",
   "name": "python",
   "nbconvert_exporter": "python",
   "pygments_lexer": "ipython3",
   "version": "3.8.8"
  }
 },
 "nbformat": 4,
 "nbformat_minor": 5
}
