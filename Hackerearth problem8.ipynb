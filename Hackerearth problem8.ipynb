{
 "cells": [
  {
   "cell_type": "markdown",
   "id": "6e2cb244",
   "metadata": {},
   "source": [
    "### Problem\n",
    "You are given an array A of size N that contains integers. Here,  is an even number. You are required to perform the following operations:\n",
    "\n",
    "Divide the array of numbers in two equal halves\n",
    "Note:Here, two equal parts of a test case are created by dividing the array into two equal parts.\n",
    "Take the first digit of the numbers that are available in the first half of the array (first 50% of the test case)\n",
    "Take the last digit of the numbers that are available in the second half of the array (second 50% of the test case)\n",
    "Generate a number by using the digits that have been selected in the above steps\n",
    "Your task is to determine whether the newly-generated number is divisible by 11.\n",
    "#### Output format\n",
    "If the newly-generated number is divisible by 11 , then print OUI . Otherwise, print NON ."
   ]
  },
  {
   "cell_type": "code",
   "execution_count": 2,
   "id": "7776e892",
   "metadata": {},
   "outputs": [
    {
     "name": "stdout",
     "output_type": "stream",
     "text": [
      "234 532 844 322 987 946\n",
      "OUI\n"
     ]
    }
   ],
   "source": [
    "N=input().split(\" \")\n",
    "c=[]\n",
    "for i in range(0,len(N)//2):\n",
    "    c.append(N[i][0])\n",
    "for i in range(len(N)//2,len(N)):\n",
    "    c.append(N[i][-1])\n",
    "b = \"\".join(c)\n",
    "if(int(b)%11):\n",
    "    print(\"OUI\")\n",
    "else:\n",
    "    print(\"NON\")"
   ]
  },
  {
   "cell_type": "code",
   "execution_count": null,
   "id": "11729258",
   "metadata": {},
   "outputs": [],
   "source": []
  }
 ],
 "metadata": {
  "kernelspec": {
   "display_name": "Python 3",
   "language": "python",
   "name": "python3"
  },
  "language_info": {
   "codemirror_mode": {
    "name": "ipython",
    "version": 3
   },
   "file_extension": ".py",
   "mimetype": "text/x-python",
   "name": "python",
   "nbconvert_exporter": "python",
   "pygments_lexer": "ipython3",
   "version": "3.8.8"
  }
 },
 "nbformat": 4,
 "nbformat_minor": 5
}
