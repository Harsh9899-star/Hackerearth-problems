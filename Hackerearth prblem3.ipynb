{
 "cells": [
  {
   "cell_type": "markdown",
   "id": "733a1115",
   "metadata": {},
   "source": [
    "### Problem\n",
    "You are required to enter a word that consists of  and  that denote the number of Zs and Os respectively. The input word is considered similar to word zoo if .\n",
    "\n",
    "Determine if the entered word is similar to word zoo.\n",
    "\n",
    "For example, words such as zzoooo and zzzoooooo are similar to word zoo but not the words such as zzooo and zzzooooo.\n",
    "\n",
    "Input format\n",
    "\n",
    "First line: A word that starts with several Zs and continues by several Os.\n",
    "Note: The maximum length of this word must be .\n",
    "Output format\n",
    "\n",
    "Print Yes if the input word can be considered as the string zoo otherwise, print No.`"
   ]
  },
  {
   "cell_type": "code",
   "execution_count": 3,
   "id": "d9986019",
   "metadata": {},
   "outputs": [
    {
     "name": "stdout",
     "output_type": "stream",
     "text": [
      "zzoooo\n",
      "Yes\n"
     ]
    }
   ],
   "source": [
    "a=input()\n",
    "len(a)==20\n",
    "x = a.count('z')\n",
    "y = a.count('o')\n",
    "if(2*x==y):\n",
    "    print(\"Yes\")\n",
    "else:\n",
    "    print(\"No\")\n",
    "\n"
   ]
  },
  {
   "cell_type": "code",
   "execution_count": null,
   "id": "ec4fc7f6",
   "metadata": {},
   "outputs": [],
   "source": []
  }
 ],
 "metadata": {
  "kernelspec": {
   "display_name": "Python 3",
   "language": "python",
   "name": "python3"
  },
  "language_info": {
   "codemirror_mode": {
    "name": "ipython",
    "version": 3
   },
   "file_extension": ".py",
   "mimetype": "text/x-python",
   "name": "python",
   "nbconvert_exporter": "python",
   "pygments_lexer": "ipython3",
   "version": "3.8.8"
  }
 },
 "nbformat": 4,
 "nbformat_minor": 5
}
