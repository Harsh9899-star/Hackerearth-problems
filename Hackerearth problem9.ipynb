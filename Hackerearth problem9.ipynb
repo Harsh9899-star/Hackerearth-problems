{
 "cells": [
  {
   "cell_type": "markdown",
   "id": "723c5dbc",
   "metadata": {},
   "source": [
    "### Problem\n",
    "You have been given an array A of size N consisting of positive integers. You need to find and print the product of all the number in this array Modulo 10**9+7 .\n",
    "\n",
    "Input Format:\n",
    "The first line contains a single integer N denoting the size of the array. The next line contains N space separated integers denoting the elements of the array\n",
    "\n",
    "Output Format:\n",
    "Print a single integer denoting the product of all the elements of the array Modulo 10**9+7."
   ]
  },
  {
   "cell_type": "code",
   "execution_count": 1,
   "id": "aaa1404c",
   "metadata": {},
   "outputs": [
    {
     "name": "stdout",
     "output_type": "stream",
     "text": [
      "5\n",
      "7 8 9 4 2\n",
      "4032\n"
     ]
    }
   ],
   "source": [
    "N=int(input())\n",
    "x=input().split()\n",
    "answer=1\n",
    "for i in x:\n",
    "    i=int(i)\n",
    "    answer=(answer*i)%(10**9+7)\n",
    "print(answer)\n"
   ]
  },
  {
   "cell_type": "code",
   "execution_count": 2,
   "id": "37b8f62e",
   "metadata": {},
   "outputs": [
    {
     "name": "stdout",
     "output_type": "stream",
     "text": [
      "5\n",
      "7 8 9 4 2\n"
     ]
    },
    {
     "data": {
      "text/plain": [
       "4032"
      ]
     },
     "execution_count": 2,
     "metadata": {},
     "output_type": "execute_result"
    }
   ],
   "source": [
    "N=int(input())\n",
    "A=list(map(int,input().split(\" \")))\n",
    "from functools import reduce\n",
    "reduce(lambda a,b:a*b,A)"
   ]
  },
  {
   "cell_type": "code",
   "execution_count": null,
   "id": "1cdb0ecb",
   "metadata": {},
   "outputs": [],
   "source": []
  }
 ],
 "metadata": {
  "kernelspec": {
   "display_name": "Python 3",
   "language": "python",
   "name": "python3"
  },
  "language_info": {
   "codemirror_mode": {
    "name": "ipython",
    "version": 3
   },
   "file_extension": ".py",
   "mimetype": "text/x-python",
   "name": "python",
   "nbconvert_exporter": "python",
   "pygments_lexer": "ipython3",
   "version": "3.8.8"
  }
 },
 "nbformat": 4,
 "nbformat_minor": 5
}
