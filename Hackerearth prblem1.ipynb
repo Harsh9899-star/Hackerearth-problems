{
 "cells": [
  {
   "cell_type": "markdown",
   "id": "f6d77820",
   "metadata": {},
   "source": [
    "### Problem\n",
    "You have been given a String S. You need to find and print whether this string is a palindrome or not. If yes, print \"YES\" (without quotes), else print \"NO\" (without quotes).\n",
    "\n",
    "Input Format\n",
    "The first and only line of input contains the String S. The String shall consist of lowercase English alphabets only.\n",
    "\n",
    "Output Format\n",
    "Print the required answer on a single line.\n",
    "\n",
    "Constraints \n",
    "\n",
    "Note\n",
    "String S consists of lowercase English Alphabets only.\n",
    "\n",
    "Sample Input\n",
    "aba\n",
    "Sample Output\n",
    "YES"
   ]
  },
  {
   "cell_type": "code",
   "execution_count": 5,
   "id": "6aaca623",
   "metadata": {},
   "outputs": [
    {
     "name": "stdout",
     "output_type": "stream",
     "text": [
      "YES\n"
     ]
    }
   ],
   "source": [
    "S = \"aba\"\n",
    "if(S[0]==S[-1]):\n",
    "    if(S.islower()):\n",
    "        print(\"YES\")     \n",
    "else:\n",
    "    print(\"NO\")\n"
   ]
  },
  {
   "cell_type": "code",
   "execution_count": null,
   "id": "6a24860c",
   "metadata": {},
   "outputs": [],
   "source": []
  }
 ],
 "metadata": {
  "kernelspec": {
   "display_name": "Python 3",
   "language": "python",
   "name": "python3"
  },
  "language_info": {
   "codemirror_mode": {
    "name": "ipython",
    "version": 3
   },
   "file_extension": ".py",
   "mimetype": "text/x-python",
   "name": "python",
   "nbconvert_exporter": "python",
   "pygments_lexer": "ipython3",
   "version": "3.8.8"
  }
 },
 "nbformat": 4,
 "nbformat_minor": 5
}
