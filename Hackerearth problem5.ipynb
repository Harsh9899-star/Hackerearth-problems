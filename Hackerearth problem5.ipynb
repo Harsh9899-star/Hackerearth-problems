{
 "cells": [
  {
   "cell_type": "markdown",
   "id": "0fa2a61c",
   "metadata": {},
   "source": [
    "### Problem\n",
    "You are provided an array  of size  that contains non-negative integers. Your task is to determine whether the number that is formed by selecting the last digit of all the N numbers is divisible by .\n",
    "\n",
    "Input format\n",
    "\n",
    "First line: A single integer A denoting the size of array \n",
    "Second line: N space-separated integers.\n",
    "Output format\n",
    "\n",
    "If the number is divisible by , then print Yes. Otherwise, print No."
   ]
  },
  {
   "cell_type": "code",
   "execution_count": 3,
   "id": "d692b196",
   "metadata": {},
   "outputs": [
    {
     "name": "stdout",
     "output_type": "stream",
     "text": [
      "5\n",
      "23 45 32 67 80\n",
      "Yes\n"
     ]
    }
   ],
   "source": [
    "A = input()\n",
    "N = input().split()\n",
    "b = \"\"\n",
    "for i in N:\n",
    "    b = b+(i[-1])\n",
    "if(int(b)%10==0):\n",
    "    print(\"Yes\")\n",
    "else:\n",
    "    print(\"No\")"
   ]
  },
  {
   "cell_type": "code",
   "execution_count": null,
   "id": "beab4319",
   "metadata": {},
   "outputs": [],
   "source": []
  },
  {
   "cell_type": "code",
   "execution_count": null,
   "id": "ffa58dbb",
   "metadata": {},
   "outputs": [],
   "source": []
  }
 ],
 "metadata": {
  "kernelspec": {
   "display_name": "Python 3",
   "language": "python",
   "name": "python3"
  },
  "language_info": {
   "codemirror_mode": {
    "name": "ipython",
    "version": 3
   },
   "file_extension": ".py",
   "mimetype": "text/x-python",
   "name": "python",
   "nbconvert_exporter": "python",
   "pygments_lexer": "ipython3",
   "version": "3.8.8"
  }
 },
 "nbformat": 4,
 "nbformat_minor": 5
}
