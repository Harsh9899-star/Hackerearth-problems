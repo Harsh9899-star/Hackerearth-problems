{
 "cells": [
  {
   "cell_type": "markdown",
   "id": "203a1a99",
   "metadata": {},
   "source": [
    "### Problem\n",
    "Roy wants to change his profile picture on Facebook. Now Facebook has some restriction over the dimension of picture that we can upload.\n",
    "Minimum dimension of the picture can be L x L, where L is the length of the side of square.\n",
    "\n",
    "Now Roy has N photos of various dimensions.\n",
    "Dimension of a photo is denoted as W x H\n",
    "where W - width of the photo and H - Height of the photo\n",
    "\n",
    "When any photo is uploaded following events may occur:\n",
    "\n",
    "[1] If any of the width or height is less than L, user is prompted to upload another one. Print \"UPLOAD ANOTHER\" in this case.\n",
    "[2] If width and height, both are large enough and\n",
    "(a) if the photo is already square then it is accepted. Print \"ACCEPTED\" in this case.\n",
    "(b) else user is prompted to crop it. Print \"CROP IT\" in this case.\n",
    "\n",
    "(quotes are only for clarification)\n",
    "\n",
    "Given L, N, W and H as input, print appropriate text as output.\n",
    "\n",
    "Input:\n",
    "First line contains L.\n",
    "Second line contains N, number of photos.\n",
    "Following N lines each contains two space separated integers W and H.\n",
    "\n",
    "Output:\n",
    "Print appropriate text for each photo in a new line."
   ]
  },
  {
   "cell_type": "code",
   "execution_count": 1,
   "id": "dc1d9e0b",
   "metadata": {},
   "outputs": [
    {
     "name": "stdout",
     "output_type": "stream",
     "text": [
      "180\n",
      "3\n",
      "640 480\n",
      "CROP IT\n",
      "120 300\n",
      "UPLOAD ANOTHER\n",
      "180 180\n",
      "ACCEPTED\n"
     ]
    }
   ],
   "source": [
    "L=int(input())\n",
    "N=int(input())\n",
    "for i in range(N):\n",
    "    H,W=list(map(int,input().split(\" \")))\n",
    "    if(H<L or W<L):\n",
    "        print(\"UPLOAD ANOTHER\")\n",
    "    elif(W==H):\n",
    "        print(\"ACCEPTED\")\n",
    "    elif(H>L or W>L):\n",
    "        print(\"CROP IT\")\n",
    "    else:\n",
    "        print(\"ACCEPTED\")"
   ]
  },
  {
   "cell_type": "code",
   "execution_count": null,
   "id": "3400774a",
   "metadata": {},
   "outputs": [],
   "source": []
  }
 ],
 "metadata": {
  "kernelspec": {
   "display_name": "Python 3",
   "language": "python",
   "name": "python3"
  },
  "language_info": {
   "codemirror_mode": {
    "name": "ipython",
    "version": 3
   },
   "file_extension": ".py",
   "mimetype": "text/x-python",
   "name": "python",
   "nbconvert_exporter": "python",
   "pygments_lexer": "ipython3",
   "version": "3.8.8"
  }
 },
 "nbformat": 4,
 "nbformat_minor": 5
}
